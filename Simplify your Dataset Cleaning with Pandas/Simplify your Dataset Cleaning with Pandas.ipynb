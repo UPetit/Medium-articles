{
 "cells": [
  {
   "cell_type": "markdown",
   "metadata": {},
   "source": [
    "- Author: Ulysse Petit\n",
    "- Date: 11/09/2019\n",
    "***\n",
    "- GitHub: https://github.com/UPetit\n",
    "- Medium: https://medium.com/@ulysse.petit\n",
    "- Twitter: https://twitter.com/ulysse_petit"
   ]
  },
  {
   "cell_type": "markdown",
   "metadata": {},
   "source": [
    "## Imports"
   ]
  },
  {
   "cell_type": "code",
   "execution_count": 1,
   "metadata": {},
   "outputs": [],
   "source": [
    "import os\n",
    "\n",
    "import pandas as pd\n",
    "import seaborn as sns\n",
    "\n",
    "df = pd.read_csv('flights_tickets_serp2018-12-16.csv')"
   ]
  },
  {
   "cell_type": "markdown",
   "metadata": {},
   "source": [
    "## DataFrame overview"
   ]
  },
  {
   "cell_type": "code",
   "execution_count": 2,
   "metadata": {
    "scrolled": true
   },
   "outputs": [
    {
     "name": "stdout",
     "output_type": "stream",
     "text": [
      "<class 'pandas.core.frame.DataFrame'>\n",
      "RangeIndex: 4000 entries, 0 to 3999\n",
      "Data columns (total 26 columns):\n",
      "searchTerms              4000 non-null object\n",
      "rank                     4000 non-null int64\n",
      "title                    4000 non-null object\n",
      "snippet                  4000 non-null object\n",
      "displayLink              4000 non-null object\n",
      "link                     4000 non-null object\n",
      "queryTime                4000 non-null object\n",
      "totalResults             4000 non-null int64\n",
      "cacheId                  3975 non-null object\n",
      "formattedUrl             4000 non-null object\n",
      "htmlFormattedUrl         4000 non-null object\n",
      "htmlSnippet              4000 non-null object\n",
      "htmlTitle                4000 non-null object\n",
      "kind                     4000 non-null object\n",
      "pagemap                  3996 non-null object\n",
      "cseName                  4000 non-null object\n",
      "count                    4000 non-null int64\n",
      "startIndex               4000 non-null int64\n",
      "inputEncoding            4000 non-null object\n",
      "outputEncoding           4000 non-null object\n",
      "safe                     4000 non-null object\n",
      "cx                       4000 non-null object\n",
      "gl                       4000 non-null object\n",
      "searchTime               4000 non-null float64\n",
      "formattedSearchTime      4000 non-null float64\n",
      "formattedTotalResults    4000 non-null object\n",
      "dtypes: float64(2), int64(4), object(20)\n",
      "memory usage: 812.6+ KB\n"
     ]
    }
   ],
   "source": [
    "# Types and counts on the DataFrame\n",
    "df.info()"
   ]
  },
  {
   "cell_type": "code",
   "execution_count": 3,
   "metadata": {},
   "outputs": [
    {
     "data": {
      "text/html": [
       "<div>\n",
       "<style scoped>\n",
       "    .dataframe tbody tr th:only-of-type {\n",
       "        vertical-align: middle;\n",
       "    }\n",
       "\n",
       "    .dataframe tbody tr th {\n",
       "        vertical-align: top;\n",
       "    }\n",
       "\n",
       "    .dataframe thead th {\n",
       "        text-align: right;\n",
       "    }\n",
       "</style>\n",
       "<table border=\"1\" class=\"dataframe\">\n",
       "  <thead>\n",
       "    <tr style=\"text-align: right;\">\n",
       "      <th></th>\n",
       "      <th>rank</th>\n",
       "      <th>totalResults</th>\n",
       "      <th>count</th>\n",
       "      <th>startIndex</th>\n",
       "      <th>searchTime</th>\n",
       "      <th>formattedSearchTime</th>\n",
       "    </tr>\n",
       "  </thead>\n",
       "  <tbody>\n",
       "    <tr>\n",
       "      <th>count</th>\n",
       "      <td>4000.00000</td>\n",
       "      <td>4.000000e+03</td>\n",
       "      <td>4000.0</td>\n",
       "      <td>4000.0</td>\n",
       "      <td>4000.000000</td>\n",
       "      <td>4000.000000</td>\n",
       "    </tr>\n",
       "    <tr>\n",
       "      <th>mean</th>\n",
       "      <td>5.50000</td>\n",
       "      <td>5.538642e+07</td>\n",
       "      <td>10.0</td>\n",
       "      <td>1.0</td>\n",
       "      <td>0.321426</td>\n",
       "      <td>0.321350</td>\n",
       "    </tr>\n",
       "    <tr>\n",
       "      <th>std</th>\n",
       "      <td>2.87264</td>\n",
       "      <td>8.004667e+07</td>\n",
       "      <td>0.0</td>\n",
       "      <td>0.0</td>\n",
       "      <td>0.061791</td>\n",
       "      <td>0.062045</td>\n",
       "    </tr>\n",
       "    <tr>\n",
       "      <th>min</th>\n",
       "      <td>1.00000</td>\n",
       "      <td>9.940000e+04</td>\n",
       "      <td>10.0</td>\n",
       "      <td>1.0</td>\n",
       "      <td>0.162895</td>\n",
       "      <td>0.160000</td>\n",
       "    </tr>\n",
       "    <tr>\n",
       "      <th>25%</th>\n",
       "      <td>3.00000</td>\n",
       "      <td>9.217500e+06</td>\n",
       "      <td>10.0</td>\n",
       "      <td>1.0</td>\n",
       "      <td>0.278504</td>\n",
       "      <td>0.280000</td>\n",
       "    </tr>\n",
       "    <tr>\n",
       "      <th>50%</th>\n",
       "      <td>5.50000</td>\n",
       "      <td>2.300000e+07</td>\n",
       "      <td>10.0</td>\n",
       "      <td>1.0</td>\n",
       "      <td>0.314640</td>\n",
       "      <td>0.310000</td>\n",
       "    </tr>\n",
       "    <tr>\n",
       "      <th>75%</th>\n",
       "      <td>8.00000</td>\n",
       "      <td>7.097500e+07</td>\n",
       "      <td>10.0</td>\n",
       "      <td>1.0</td>\n",
       "      <td>0.354942</td>\n",
       "      <td>0.352500</td>\n",
       "    </tr>\n",
       "    <tr>\n",
       "      <th>max</th>\n",
       "      <td>10.00000</td>\n",
       "      <td>5.420000e+08</td>\n",
       "      <td>10.0</td>\n",
       "      <td>1.0</td>\n",
       "      <td>0.533649</td>\n",
       "      <td>0.530000</td>\n",
       "    </tr>\n",
       "  </tbody>\n",
       "</table>\n",
       "</div>"
      ],
      "text/plain": [
       "             rank  totalResults   count  startIndex   searchTime  \\\n",
       "count  4000.00000  4.000000e+03  4000.0      4000.0  4000.000000   \n",
       "mean      5.50000  5.538642e+07    10.0         1.0     0.321426   \n",
       "std       2.87264  8.004667e+07     0.0         0.0     0.061791   \n",
       "min       1.00000  9.940000e+04    10.0         1.0     0.162895   \n",
       "25%       3.00000  9.217500e+06    10.0         1.0     0.278504   \n",
       "50%       5.50000  2.300000e+07    10.0         1.0     0.314640   \n",
       "75%       8.00000  7.097500e+07    10.0         1.0     0.354942   \n",
       "max      10.00000  5.420000e+08    10.0         1.0     0.533649   \n",
       "\n",
       "       formattedSearchTime  \n",
       "count          4000.000000  \n",
       "mean              0.321350  \n",
       "std               0.062045  \n",
       "min               0.160000  \n",
       "25%               0.280000  \n",
       "50%               0.310000  \n",
       "75%               0.352500  \n",
       "max               0.530000  "
      ]
     },
     "execution_count": 3,
     "metadata": {},
     "output_type": "execute_result"
    }
   ],
   "source": [
    "# Basic stats on the dataset (for numerical columns)\n",
    "df.describe()"
   ]
  },
  {
   "cell_type": "code",
   "execution_count": 4,
   "metadata": {},
   "outputs": [
    {
     "data": {
      "text/html": [
       "<div>\n",
       "<style scoped>\n",
       "    .dataframe tbody tr th:only-of-type {\n",
       "        vertical-align: middle;\n",
       "    }\n",
       "\n",
       "    .dataframe tbody tr th {\n",
       "        vertical-align: top;\n",
       "    }\n",
       "\n",
       "    .dataframe thead th {\n",
       "        text-align: right;\n",
       "    }\n",
       "</style>\n",
       "<table border=\"1\" class=\"dataframe\">\n",
       "  <thead>\n",
       "    <tr style=\"text-align: right;\">\n",
       "      <th></th>\n",
       "      <th>searchTerms</th>\n",
       "      <th>rank</th>\n",
       "      <th>title</th>\n",
       "      <th>snippet</th>\n",
       "      <th>displayLink</th>\n",
       "      <th>link</th>\n",
       "      <th>queryTime</th>\n",
       "      <th>totalResults</th>\n",
       "      <th>cacheId</th>\n",
       "      <th>formattedUrl</th>\n",
       "      <th>...</th>\n",
       "      <th>count</th>\n",
       "      <th>startIndex</th>\n",
       "      <th>inputEncoding</th>\n",
       "      <th>outputEncoding</th>\n",
       "      <th>safe</th>\n",
       "      <th>cx</th>\n",
       "      <th>gl</th>\n",
       "      <th>searchTime</th>\n",
       "      <th>formattedSearchTime</th>\n",
       "      <th>formattedTotalResults</th>\n",
       "    </tr>\n",
       "  </thead>\n",
       "  <tbody>\n",
       "    <tr>\n",
       "      <th>0</th>\n",
       "      <td>flights to hong kong</td>\n",
       "      <td>1</td>\n",
       "      <td>Cheap Flights to Hong Kong (HKG) from $397 - K...</td>\n",
       "      <td>Find flights to Hong Kong on XiamenAir, Hong K...</td>\n",
       "      <td>www.kayak.com</td>\n",
       "      <td>https://www.kayak.com/flight-routes/United-Sta...</td>\n",
       "      <td>2018-12-16 11:26:30.485612+00:00</td>\n",
       "      <td>106000000</td>\n",
       "      <td>W42baDpas_gJ</td>\n",
       "      <td>https://www.kayak.com/flight-routes/United.../...</td>\n",
       "      <td>...</td>\n",
       "      <td>10</td>\n",
       "      <td>1</td>\n",
       "      <td>utf8</td>\n",
       "      <td>utf8</td>\n",
       "      <td>off</td>\n",
       "      <td>012859022920491477448:pubdbfjmmec</td>\n",
       "      <td>us</td>\n",
       "      <td>0.162895</td>\n",
       "      <td>0.16</td>\n",
       "      <td>106,000,000</td>\n",
       "    </tr>\n",
       "    <tr>\n",
       "      <th>1</th>\n",
       "      <td>flights to hong kong</td>\n",
       "      <td>2</td>\n",
       "      <td>$480 Flights to Hong Kong, China (HKG) - TripA...</td>\n",
       "      <td>Cheap Flights to Hong Kong: Enter your dates o...</td>\n",
       "      <td>www.tripadvisor.com</td>\n",
       "      <td>https://www.tripadvisor.com/Flights-g294217-Ho...</td>\n",
       "      <td>2018-12-16 11:26:30.485612+00:00</td>\n",
       "      <td>106000000</td>\n",
       "      <td>5jsjhmxgxvkJ</td>\n",
       "      <td>https://www.tripadvisor.com/Flights-g294217-Ho...</td>\n",
       "      <td>...</td>\n",
       "      <td>10</td>\n",
       "      <td>1</td>\n",
       "      <td>utf8</td>\n",
       "      <td>utf8</td>\n",
       "      <td>off</td>\n",
       "      <td>012859022920491477448:pubdbfjmmec</td>\n",
       "      <td>us</td>\n",
       "      <td>0.162895</td>\n",
       "      <td>0.16</td>\n",
       "      <td>106,000,000</td>\n",
       "    </tr>\n",
       "    <tr>\n",
       "      <th>2</th>\n",
       "      <td>flights to hong kong</td>\n",
       "      <td>3</td>\n",
       "      <td>Cheap Flights to Hong Kong International from ...</td>\n",
       "      <td>Search cheap flights using Skyscanner's free f...</td>\n",
       "      <td>www.skyscanner.com</td>\n",
       "      <td>https://www.skyscanner.com/flights-to/hkg/chea...</td>\n",
       "      <td>2018-12-16 11:26:30.485612+00:00</td>\n",
       "      <td>106000000</td>\n",
       "      <td>EI78TI4Q1qYJ</td>\n",
       "      <td>https://www.skyscanner.com/flights-to/hkg/chea...</td>\n",
       "      <td>...</td>\n",
       "      <td>10</td>\n",
       "      <td>1</td>\n",
       "      <td>utf8</td>\n",
       "      <td>utf8</td>\n",
       "      <td>off</td>\n",
       "      <td>012859022920491477448:pubdbfjmmec</td>\n",
       "      <td>us</td>\n",
       "      <td>0.162895</td>\n",
       "      <td>0.16</td>\n",
       "      <td>106,000,000</td>\n",
       "    </tr>\n",
       "    <tr>\n",
       "      <th>3</th>\n",
       "      <td>flights to hong kong</td>\n",
       "      <td>4</td>\n",
       "      <td>Flights to Hong Kong (HKG) | Hong Kong Flight ...</td>\n",
       "      <td>Find &amp; book great deals on Hong Kong (HKG) Fli...</td>\n",
       "      <td>flights.cathaypacific.com</td>\n",
       "      <td>https://flights.cathaypacific.com/en-us/flight...</td>\n",
       "      <td>2018-12-16 11:26:30.485612+00:00</td>\n",
       "      <td>106000000</td>\n",
       "      <td>q6kszaD7mggJ</td>\n",
       "      <td>https://flights.cathaypacific.com/en-us/flight...</td>\n",
       "      <td>...</td>\n",
       "      <td>10</td>\n",
       "      <td>1</td>\n",
       "      <td>utf8</td>\n",
       "      <td>utf8</td>\n",
       "      <td>off</td>\n",
       "      <td>012859022920491477448:pubdbfjmmec</td>\n",
       "      <td>us</td>\n",
       "      <td>0.162895</td>\n",
       "      <td>0.16</td>\n",
       "      <td>106,000,000</td>\n",
       "    </tr>\n",
       "    <tr>\n",
       "      <th>4</th>\n",
       "      <td>flights to hong kong</td>\n",
       "      <td>5</td>\n",
       "      <td>Cheap Flights to Hong Kong SAR, Asia $393.97 i...</td>\n",
       "      <td>Expedia Add-On Advantage: Book a flight &amp; unlo...</td>\n",
       "      <td>www.expedia.com</td>\n",
       "      <td>https://www.expedia.com/Cheap-Flights-To-Hong-...</td>\n",
       "      <td>2018-12-16 11:26:30.485612+00:00</td>\n",
       "      <td>106000000</td>\n",
       "      <td>iEmRbX0P8CAJ</td>\n",
       "      <td>https://www.expedia.com/Cheap-Flights-To-Hong-...</td>\n",
       "      <td>...</td>\n",
       "      <td>10</td>\n",
       "      <td>1</td>\n",
       "      <td>utf8</td>\n",
       "      <td>utf8</td>\n",
       "      <td>off</td>\n",
       "      <td>012859022920491477448:pubdbfjmmec</td>\n",
       "      <td>us</td>\n",
       "      <td>0.162895</td>\n",
       "      <td>0.16</td>\n",
       "      <td>106,000,000</td>\n",
       "    </tr>\n",
       "  </tbody>\n",
       "</table>\n",
       "<p>5 rows × 26 columns</p>\n",
       "</div>"
      ],
      "text/plain": [
       "            searchTerms  rank  \\\n",
       "0  flights to hong kong     1   \n",
       "1  flights to hong kong     2   \n",
       "2  flights to hong kong     3   \n",
       "3  flights to hong kong     4   \n",
       "4  flights to hong kong     5   \n",
       "\n",
       "                                               title  \\\n",
       "0  Cheap Flights to Hong Kong (HKG) from $397 - K...   \n",
       "1  $480 Flights to Hong Kong, China (HKG) - TripA...   \n",
       "2  Cheap Flights to Hong Kong International from ...   \n",
       "3  Flights to Hong Kong (HKG) | Hong Kong Flight ...   \n",
       "4  Cheap Flights to Hong Kong SAR, Asia $393.97 i...   \n",
       "\n",
       "                                             snippet  \\\n",
       "0  Find flights to Hong Kong on XiamenAir, Hong K...   \n",
       "1  Cheap Flights to Hong Kong: Enter your dates o...   \n",
       "2  Search cheap flights using Skyscanner's free f...   \n",
       "3  Find & book great deals on Hong Kong (HKG) Fli...   \n",
       "4  Expedia Add-On Advantage: Book a flight & unlo...   \n",
       "\n",
       "                 displayLink  \\\n",
       "0              www.kayak.com   \n",
       "1        www.tripadvisor.com   \n",
       "2         www.skyscanner.com   \n",
       "3  flights.cathaypacific.com   \n",
       "4            www.expedia.com   \n",
       "\n",
       "                                                link  \\\n",
       "0  https://www.kayak.com/flight-routes/United-Sta...   \n",
       "1  https://www.tripadvisor.com/Flights-g294217-Ho...   \n",
       "2  https://www.skyscanner.com/flights-to/hkg/chea...   \n",
       "3  https://flights.cathaypacific.com/en-us/flight...   \n",
       "4  https://www.expedia.com/Cheap-Flights-To-Hong-...   \n",
       "\n",
       "                          queryTime  totalResults       cacheId  \\\n",
       "0  2018-12-16 11:26:30.485612+00:00     106000000  W42baDpas_gJ   \n",
       "1  2018-12-16 11:26:30.485612+00:00     106000000  5jsjhmxgxvkJ   \n",
       "2  2018-12-16 11:26:30.485612+00:00     106000000  EI78TI4Q1qYJ   \n",
       "3  2018-12-16 11:26:30.485612+00:00     106000000  q6kszaD7mggJ   \n",
       "4  2018-12-16 11:26:30.485612+00:00     106000000  iEmRbX0P8CAJ   \n",
       "\n",
       "                                        formattedUrl          ...           \\\n",
       "0  https://www.kayak.com/flight-routes/United.../...          ...            \n",
       "1  https://www.tripadvisor.com/Flights-g294217-Ho...          ...            \n",
       "2  https://www.skyscanner.com/flights-to/hkg/chea...          ...            \n",
       "3  https://flights.cathaypacific.com/en-us/flight...          ...            \n",
       "4  https://www.expedia.com/Cheap-Flights-To-Hong-...          ...            \n",
       "\n",
       "  count startIndex inputEncoding outputEncoding safe  \\\n",
       "0    10          1          utf8           utf8  off   \n",
       "1    10          1          utf8           utf8  off   \n",
       "2    10          1          utf8           utf8  off   \n",
       "3    10          1          utf8           utf8  off   \n",
       "4    10          1          utf8           utf8  off   \n",
       "\n",
       "                                  cx  gl  searchTime formattedSearchTime  \\\n",
       "0  012859022920491477448:pubdbfjmmec  us    0.162895                0.16   \n",
       "1  012859022920491477448:pubdbfjmmec  us    0.162895                0.16   \n",
       "2  012859022920491477448:pubdbfjmmec  us    0.162895                0.16   \n",
       "3  012859022920491477448:pubdbfjmmec  us    0.162895                0.16   \n",
       "4  012859022920491477448:pubdbfjmmec  us    0.162895                0.16   \n",
       "\n",
       "  formattedTotalResults  \n",
       "0           106,000,000  \n",
       "1           106,000,000  \n",
       "2           106,000,000  \n",
       "3           106,000,000  \n",
       "4           106,000,000  \n",
       "\n",
       "[5 rows x 26 columns]"
      ]
     },
     "execution_count": 4,
     "metadata": {},
     "output_type": "execute_result"
    }
   ],
   "source": [
    "# Display the top 5 rows (the result is a DataFrame)\n",
    "df.head()"
   ]
  },
  {
   "cell_type": "code",
   "execution_count": 5,
   "metadata": {},
   "outputs": [
    {
     "data": {
      "text/plain": [
       "Index(['searchTerms', 'rank', 'title', 'snippet', 'displayLink', 'link',\n",
       "       'queryTime', 'totalResults', 'cacheId', 'formattedUrl',\n",
       "       'htmlFormattedUrl', 'htmlSnippet', 'htmlTitle', 'kind', 'pagemap',\n",
       "       'cseName', 'count', 'startIndex', 'inputEncoding', 'outputEncoding',\n",
       "       'safe', 'cx', 'gl', 'searchTime', 'formattedSearchTime',\n",
       "       'formattedTotalResults'],\n",
       "      dtype='object')"
      ]
     },
     "execution_count": 5,
     "metadata": {},
     "output_type": "execute_result"
    }
   ],
   "source": [
    "# Show the column names\n",
    "df.columns"
   ]
  },
  {
   "cell_type": "markdown",
   "metadata": {},
   "source": [
    "## 1. Remove useless characters"
   ]
  },
  {
   "cell_type": "code",
   "execution_count": 6,
   "metadata": {
    "scrolled": true
   },
   "outputs": [
    {
     "data": {
      "text/plain": [
       "0       Cheap Flights to Hong Kong (HKG) from $397 - K...\n",
       "1       $480 Flights to Hong Kong, China (HKG) - TripA...\n",
       "2       Cheap Flights to Hong Kong International from ...\n",
       "3       Flights to Hong Kong (HKG) | Hong Kong Flight ...\n",
       "4       Cheap Flights to Hong Kong SAR, Asia $393.97 i...\n",
       "5       Cheap Flights to Hong Kong - Search Deals on A...\n",
       "6            Flights to Hong Kong SAR (HKG) on Orbitz.com\n",
       "7       Passenger Arrivals, Flights - Hong Kong Intern...\n",
       "8       Fly Hong Kong Airlines | Flights To & From Hon...\n",
       "9       Find Cheap Flights to Hong Kong from 395 USD |...\n",
       "10      $454 Flights to Bangkok, Thailand (BKK) - Trip...\n",
       "11      Cheap Flights to Bangkok, Bangkok $376.23 in 2...\n",
       "12      Find Cheap Flights to Bangkok Suvarnabhumi & o...\n",
       "13        Cheap Flights to Bangkok from $398 - Skyscanner\n",
       "14          Cheap Flights To Bangkok Thailand | CheapOair\n",
       "15      Cheap Flights to Bangkok, Thailand - Search De...\n",
       "16      United Cheap Flights to Bangkok | Flight Deals...\n",
       "17      $549.94 + Flights from Houston (HOU) to Bangko...\n",
       "18      Flights to Bangkok, Thailand : Best Fare Guara...\n",
       "19      Flights to Bangkok (BKK) | Find and book fligh...\n",
       "20        Cheap Flights to London (LON) from $162 - KAYAK\n",
       "21      $301 Flights to London, United Kingdom (LON) -...\n",
       "22      Cheap Flights to London from £19 in 2019 | Sky...\n",
       "23      Cheap Flights to London from $288 in 2019 | Sk...\n",
       "24      Cheap Flights to London, England (LHR Airport)...\n",
       "25         Cheap Flights to London, (LON) Airline Tickets\n",
       "26                  Flights to London (LON) on Orbitz.com\n",
       "27             Cheap Flights to London (LHR) | Icelandair\n",
       "28          Flights to London (LON) from €9 with eDreams!\n",
       "29      Cheap Flights To London: Book The Best Flight ...\n",
       "                              ...                        \n",
       "3970    Cheap Flights to Washington from £248 in 2019 ...\n",
       "3971    5 Cheap Flights to Washington DC (WAS) @ £307 ...\n",
       "3972    Cheap Flights to Washington from £278 - Cheapf...\n",
       "3973    Cheap Flights from London to Washington from £...\n",
       "3974    Flights to Washington (DCA & IAD Airports) | E...\n",
       "3975    $116 Flights to Washington DC, District of Col...\n",
       "3976    Cheap Flights to Washington Dc, (WAS) Airline ...\n",
       "3977    Flights to Washington (WAS) | Book now with Br...\n",
       "3978    Flights to Washington | Cheap Washington fligh...\n",
       "3979    $163.33 + Flights from Toronto (YTO) to Washin...\n",
       "3980    Cheap Flights to Chiba, Chiba $438.60 in 2019 ...\n",
       "3981                           Tickets in Chiba - Voyagin\n",
       "3982    5 Cheap Flights to Chiba, Japan @ £419 2018 - ...\n",
       "3983    Chiba Baseball Tickets - Japan Forum - TripAdv...\n",
       "3984    Rail & Bus Tickets | NARITA INTERNATIONAL AIRP...\n",
       "3985    Flights to Chiba - Reserve Cheap Flight Ticket...\n",
       "3986           Makuhari Messe Tickets - Chiba-shi StubHub\n",
       "3987    Cheap Flights to Chiba NZ$514.98 - Book Airfar...\n",
       "3988    Chiba and Makuhari｜Discounted Tickets｜How to U...\n",
       "3989    Download Festival Japan 2019 Chiba Line-up, Ti...\n",
       "3990          Cheap Flights to Nice from £23 | Skyscanner\n",
       "3991    easyJet.com | Cheap winter flights to Nice for...\n",
       "3992         Cheap Flights to Nice (NCE) from £17 - KAYAK\n",
       "3993    Flights to Nice | Cheap Nice flights | lastmin...\n",
       "3994    Cheap Flights to Nice from £17 - Cheapflights....\n",
       "3995                      Billetterie Officielle OGC Nice\n",
       "3996    OGC Nice Tickets | Buy or Sell Tickets for OGC...\n",
       "3997    5 Cheap Flights to Nice, France (NCE) @ £137 2...\n",
       "3998    Nice Ville to Milan by Train from €14.90 | Tim...\n",
       "3999    Flights to Nice (NCE) | KLM Nice tickets from ...\n",
       "Name: title, Length: 4000, dtype: object"
      ]
     },
     "execution_count": 6,
     "metadata": {},
     "output_type": "execute_result"
    }
   ],
   "source": [
    "# Title column values\n",
    "df['title']"
   ]
  },
  {
   "cell_type": "code",
   "execution_count": 7,
   "metadata": {},
   "outputs": [],
   "source": [
    "# Special characters removal\n",
    "spec_chars = [\"!\",'\"',\"#\",\"%\",\"&\",\"'\",\"(\",\")\",\n",
    "              \"*\",\"+\",\",\",\"-\",\"/\",\":\",\";\",\"<\",\n",
    "              \"=\",\">\",\"?\",\"@\",\"[\",\"\\\\\",\"]\",\"^\",\"_\",\n",
    "              \"`\",\"{\",\"|\",\"}\",\"~\",\"–\"]\n",
    "\n",
    "for char in spec_chars:\n",
    "    df['title'] = df['title'].str.replace(char, ' ')\n",
    "\n",
    "df['title'] = df['title'].str.split().str.join(\" \")"
   ]
  },
  {
   "cell_type": "markdown",
   "metadata": {},
   "source": [
    "## 2. Extract relevant content from a Series"
   ]
  },
  {
   "cell_type": "code",
   "execution_count": 8,
   "metadata": {
    "scrolled": true
   },
   "outputs": [
    {
     "data": {
      "text/plain": [
       "array(['$397', '$480', '$383', nan, '$393.97', '$454', '$376.23', '$398',\n",
       "       '$549.94', '$162', '$301', '$288', '$339.98', '$360', '$386.11',\n",
       "       '$466', '$358', '$413', '$406.63', '$465', '$453.', '$533.26',\n",
       "       '$499', '$447', '$504', '$179', '$209', '$231', '$272.21', '$248',\n",
       "       '$375.34', '$16', '$374.23', '$64', '$73', '$94.80', '$74', '$24',\n",
       "       '$96.38', '$147.68', '$344', '$347.75', '$457', '$212', '$473',\n",
       "       '$369.23', '$340', '$20', '$242.', '$455', '$399', '$408.54',\n",
       "       '$392', '$276.', '$338', '$379', '$392.73', '$436', '$ 474',\n",
       "       '$ 664', '$491', '$395', '$477', '$438.60', '$365', '$879.01',\n",
       "       '$214', '$297', '$321.83', '$320', '$ 322', '$385.61', '$463',\n",
       "       '$347', '$165', '$336', '$326', '$343.', '$516', '$526.03', '$498',\n",
       "       '$526', '$ 676', '$608.03', '$957.63', '$814.67', '$549',\n",
       "       '$549.16', '$482', '$378', '$406', '$438', '$420.24', '$ 561',\n",
       "       '$47', '$87', '$27', '$60.79', '$282.04', '$351', '$376.45',\n",
       "       '$454.45', '$253', '$289', '$217', '$298.28', '$ 318', '$376.03',\n",
       "       '$453.93', '$356.63', '$356', '$317', '$407', '$126', '$311',\n",
       "       '$435', '$395.53', '$381', '$ 447', '$132', '$167.50', '$221',\n",
       "       '$230.52', '$49', '$152', '$39', '$86.38', '$152.39', '$146.80',\n",
       "       '$19', '$295', '$244', '$299.98', '$620', '$608.42', '$434',\n",
       "       '$424', '$313', '$489', '$234.', '$291.78', '$199', '$206',\n",
       "       '$356.', '$80.41', '$191', '$35', '$60', '$210.80', '$96.40',\n",
       "       '$225.14', '$223', '$355.83', '$291', '$444', '$ 562', '$216',\n",
       "       '$281', '$316.03', '$70', '$ 358', '$270', '$302', '$ 390', '$89',\n",
       "       '$385.83', '$530', '$529.99', '$518', '$609', '$567', '$113',\n",
       "       '$330', '$394.63', '$350', '$ 493', '$45', '$52', '$43.90', '$43',\n",
       "       '$66.39', '$206.08', '$68.17', '$676.13', '$631', '$ 143', '$604',\n",
       "       '$229', '$588', '$531', '$483.37', '$355', '$ 507', '$289.13',\n",
       "       '$ 397', '$250', '$439', '$390.49', '$412', '$ 591', '$353',\n",
       "       '$471', '$401', '$ 477', '$367.20', '$173.22', '$172', '$128',\n",
       "       '$300', '$408.23', '$542', '$405', '$452.92', '$84', '$443',\n",
       "       '$318', '$171', '$486', '$140', '$640.51', '$646.40', '$354',\n",
       "       '$75', '$371', '$492.63', '$343', '$497', '$ 518', '$32', '$247',\n",
       "       '$224.03', '$184', '$67', '$74.80', '$236', '$190.80', '$48',\n",
       "       '$403', '$445', '$382', '$76', '$56', '$374.53', '$483', '$305',\n",
       "       '$ 504', '$333', '$417', '$396.87', '$197.78', '$448', '$161',\n",
       "       '$654', '$579.37', '$503', '$503.13', '$268.64', '$109.13', '$68',\n",
       "       '$580', '$568', '$582.62', '$ 803', '$557', '$224', '$325', '$234',\n",
       "       '$ 326', '$1', '$689.39', '$477.67', '$404', '$433.43', '$517',\n",
       "       '$327.', '$679.32', '$545', '$391', '$405.73', '$468', '$523.59',\n",
       "       '$541', '$144.25', '$890.08', '$887', '$489.98', '$488', '$559.98',\n",
       "       '$555', '$513', '$42.80', '$ 546', '$294', '$548', '$ 538',\n",
       "       '$585.93', '$451', '$423', '$74.', '$112', '$341', '$96', '$414',\n",
       "       '$164', '$187.28', '$309', '$51', '$320.87', '$ 88', '$551',\n",
       "       '$654.13', '$214.', '$549.24', '$ 849', '$135', '$517.61', '$515',\n",
       "       '$119', '$514.32', '$498.62', '$645', '$4', '$53', '$450.33',\n",
       "       '$531.', '$373', '$437', '$347.65', '$425', '$487', '$279', '$307',\n",
       "       '$419', '$678', '$337', '$280.73', '$406.83', '$71', '$408',\n",
       "       '$476', '$185.08', '$159', '$218', '$30', '$138', '$277.87',\n",
       "       '$264.51', '$218.51', '$485', '$433.63', '$432.', '$331.18',\n",
       "       '$410', '$392.38', '$375', '$590', '$552.63', '$603', '$565',\n",
       "       '$25', '$972.68', '$486.93', '$505', '$ 710', '$574', '$566',\n",
       "       '$686.53', '$103', '$116', '$120.49', '$57', '$475', '$611',\n",
       "       '$488.83', '$205.46', '$528', '$390', '$114', '$327.20', '$211.',\n",
       "       '$232', '$ 342', '$258.64', '$443.61', '$321.73', '$108', '$91',\n",
       "       '$366.36', '$183', '$427', '$367', '$507.55', '$454.03', '$316',\n",
       "       '$153.12', '$188', '$435.91', '$339.33', '$326.24', '$819.62',\n",
       "       '$582.', '$141', '$154', '$237.09', '$175', '$158', '$698.18',\n",
       "       '$31.', '$ 594', '$533.63', '$141.53', '$413.73', '$415', '$474',\n",
       "       '$347.43', '$513.37', '$485.53', '$547.83', '$895.49', '$580.96',\n",
       "       '$480.13', '$550', '$41', '$63', '$508.08', '$847.83', '$441',\n",
       "       '$201.07', '$386.18', '$758.50', '$882.41', '$685', '$539.',\n",
       "       '$148.36', '$514.98', '$38', '$533', '$268', '$732.71', '$ 140',\n",
       "       '$6', '$44', '$ 214', '$163.33'], dtype=object)"
      ]
     },
     "execution_count": 8,
     "metadata": {},
     "output_type": "execute_result"
    }
   ],
   "source": [
    "# Dollar prices extraction\n",
    "df['dollar_prices'] = df['title'].str.extract('(\\$.\\d*\\.?\\d*)')\n",
    "df['dollar_prices'].unique()"
   ]
  },
  {
   "cell_type": "markdown",
   "metadata": {},
   "source": [
    "## 3. Check NaN values"
   ]
  },
  {
   "cell_type": "code",
   "execution_count": 9,
   "metadata": {},
   "outputs": [
    {
     "data": {
      "text/plain": [
       "<matplotlib.axes._subplots.AxesSubplot at 0x29185432160>"
      ]
     },
     "execution_count": 9,
     "metadata": {},
     "output_type": "execute_result"
    },
    {
     "data": {
      "image/png": "[encoded data removed]",
      "text/plain": [
       "<Figure size 432x288 with 1 Axes>"
      ]
     },
     "metadata": {
      "needs_background": "light"
     },
     "output_type": "display_data"
    }
   ],
   "source": [
    "# Show the NaN values in your DataFrame\n",
    "sns.heatmap(df.isnull(), cbar=False, cmap='viridis')"
   ]
  },
  {
   "cell_type": "code",
   "execution_count": 10,
   "metadata": {},
   "outputs": [],
   "source": [
    "# Remove the dollar_price NaN rows\n",
    "df = df.dropna(subset=['dollar_prices'])"
   ]
  },
  {
   "cell_type": "markdown",
   "metadata": {},
   "source": [
    "## 4. Change the type of your Series"
   ]
  },
  {
   "cell_type": "code",
   "execution_count": 11,
   "metadata": {},
   "outputs": [],
   "source": [
    "# Remove the $ character\n",
    "df['dollar_prices'] = df['dollar_prices'].str.replace('$', '')"
   ]
  },
  {
   "cell_type": "code",
   "execution_count": 12,
   "metadata": {
    "scrolled": false
   },
   "outputs": [
    {
     "data": {
      "text/plain": [
       "searchTerms               object\n",
       "rank                       int64\n",
       "title                     object\n",
       "snippet                   object\n",
       "displayLink               object\n",
       "link                      object\n",
       "queryTime                 object\n",
       "totalResults               int64\n",
       "cacheId                   object\n",
       "formattedUrl              object\n",
       "htmlFormattedUrl          object\n",
       "htmlSnippet               object\n",
       "htmlTitle                 object\n",
       "kind                      object\n",
       "pagemap                   object\n",
       "cseName                   object\n",
       "count                      int64\n",
       "startIndex                 int64\n",
       "inputEncoding             object\n",
       "outputEncoding            object\n",
       "safe                      object\n",
       "cx                        object\n",
       "gl                        object\n",
       "searchTime               float64\n",
       "formattedSearchTime      float64\n",
       "formattedTotalResults     object\n",
       "dollar_prices             object\n",
       "dtype: object"
      ]
     },
     "execution_count": 12,
     "metadata": {},
     "output_type": "execute_result"
    }
   ],
   "source": [
    "# Check the column type\n",
    "df.dtypes"
   ]
  },
  {
   "cell_type": "code",
   "execution_count": 13,
   "metadata": {},
   "outputs": [
    {
     "data": {
      "text/plain": [
       "dtype('float64')"
      ]
     },
     "execution_count": 13,
     "metadata": {},
     "output_type": "execute_result"
    }
   ],
   "source": [
    "# Convert the column into a float type\n",
    "df['dollar_prices'] = pd.to_numeric(df['dollar_prices'], errors='coerce')\n",
    "df['dollar_prices'].dtypes"
   ]
  }
 ],
 "metadata": {
  "_draft": {
   "nbviewer_url": "https://gist.github.com/4c9400f8f05e8e3618e13e1f875d7984"
  },
  "gist": {
   "data": {
    "description": "Special Characters Removal",
    "public": false
   },
   "id": "4c9400f8f05e8e3618e13e1f875d7984"
  },
  "kernelspec": {
   "display_name": "Python 3",
   "language": "python",
   "name": "python3"
  },
  "language_info": {
   "codemirror_mode": {
    "name": "ipython",
    "version": 3
   },
   "file_extension": ".py",
   "mimetype": "text/x-python",
   "name": "python",
   "nbconvert_exporter": "python",
   "pygments_lexer": "ipython3",
   "version": "3.6.7"
  }
 },
 "nbformat": 4,
 "nbformat_minor": 2
}
